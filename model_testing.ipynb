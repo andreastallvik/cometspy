{
 "cells": [
  {
   "cell_type": "markdown",
   "metadata": {},
   "source": [
    "# Loading models and Cobrapy compatibility\n",
    "\n",
    "Let's show how the COMETS Python toolbox deals with models, including compatibility with cobra. \n",
    "\n",
    "We first create a set of parameters by instantiating the params class with no arguments, meaning that all parameter values will be the default. \n",
    "\n",
    "We then also load a layout containing only an amount of glucose (plus unlimited minerals, ammonia, phosphate etc.) and we load in the Cobra SBML iJO1366 model from file. Each time the models in a layout are changed, we have to run the `update_models()` method.    "
   ]
  },
  {
   "cell_type": "code",
   "execution_count": 1,
   "metadata": {},
   "outputs": [
    {
     "name": "stdout",
     "output_type": "stream",
     "text": [
      "Academic license - for non-commercial use only\n"
     ]
    },
    {
     "data": {
      "text/plain": [
       "['iJO1366']"
      ]
     },
     "execution_count": 1,
     "metadata": {},
     "output_type": "execute_result"
    }
   ],
   "source": [
    "import comets as c\n",
    "import os\n",
    "import pandas as pd\n",
    "import matplotlib.pyplot as plt\n",
    "pd.options.display.max_rows = 10\n",
    "\n",
    "# .. Create set of parameters with default values, and change timeStep\n",
    "my_params = c.params()\n",
    "my_params.all_params['timeStep'] = 0.25\n",
    "\n",
    "# .. Load layout from file\n",
    "my_layout = c.layout('test_models/layout_blueprint')\n",
    "my_layout.models = ['test_models/iJO1366.xml']\n",
    "my_layout.update_models()\n",
    "my_layout.models"
   ]
  },
  {
   "cell_type": "markdown",
   "metadata": {},
   "source": [
    "In the layout file, the model was specified as a path to a xml file. Internally, the `layout` class transformed this SBML model in a file readable by the `COMETS` Java engine. The field models will show just the model ID. Let's run the model and see the results."
   ]
  },
  {
   "cell_type": "code",
   "execution_count": 2,
   "metadata": {},
   "outputs": [
    {
     "name": "stdout",
     "output_type": "stream",
     "text": [
      "\n",
      "Running COMETS simulation ...\n",
      "Done!\n"
     ]
    }
   ],
   "source": [
    "# create comets object from the loaded parameters and layout, and run it\n",
    "my_comets = c.comets(my_layout, my_params)\n",
    "my_comets.run()"
   ]
  },
  {
   "cell_type": "code",
   "execution_count": 3,
   "metadata": {},
   "outputs": [
    {
     "data": {
      "text/plain": [
       "[<matplotlib.lines.Line2D at 0x7f3a2b5efb70>]"
      ]
     },
     "execution_count": 3,
     "metadata": {},
     "output_type": "execute_result"
    },
    {
     "data": {
      "image/png": "[encoded data removed]",
      "text/plain": [
       "<Figure size 432x288 with 1 Axes>"
      ]
     },
     "metadata": {
      "needs_background": "light"
     },
     "output_type": "display_data"
    }
   ],
   "source": [
    "biomass1 = my_comets.total_biomass\n",
    "plt.plot('cycle', 'iJO1366', data=biomass1)"
   ]
  },
  {
   "cell_type": "markdown",
   "metadata": {},
   "source": [
    "## Adjusting COMETS parameters in models\n",
    "\n",
    "What if we want to change some parameters of the model? For instance, we might want to change the type of optimization of the model (objective style) to maximize biomass and then minimize the total flux (parsimonious FBA in cobra terms). For changing such parameters, we need to read the `COBRA` model, and add the corresponding fields for `COMETS`."
   ]
  },
  {
   "cell_type": "code",
   "execution_count": 4,
   "metadata": {},
   "outputs": [],
   "source": [
    "import cobra as cb\n",
    "md = cb.io.read_sbml_model('test_models/iJO1366.xml')"
   ]
  },
  {
   "cell_type": "code",
   "execution_count": 5,
   "metadata": {},
   "outputs": [],
   "source": [
    "# add some parameters to the model\n",
    "md.obj_style = 'MAX_OBJECTIVE_MIN_TOTAL'\n",
    "\n",
    "# change the ID of the model\n",
    "md.id = 'modified_iJO1366'"
   ]
  },
  {
   "cell_type": "markdown",
   "metadata": {},
   "source": [
    "If we also want to change $V_{max}$, $K_m$, and Hill coefficients of some uptake reaction, say glucose uptake, we have to add these as fields of the corresponding exchange reaction.  \n",
    "\n",
    "Moreover, if we change these parameters for any particular reaction, we also need to specify their default values for all the rest of uptake reactions in the model. "
   ]
  },
  {
   "cell_type": "code",
   "execution_count": 6,
   "metadata": {},
   "outputs": [],
   "source": [
    "md.reactions.EX_glc__D_e.Vmax = 6\n",
    "md.reactions.EX_glc__D_e.Km = .1\n",
    "md.reactions.EX_glc__D_e.Hill = 2\n",
    "\n",
    "md.default_vmax = 10\n",
    "md.default_km = 0.01\n",
    "md.default_hill = 1"
   ]
  },
  {
   "cell_type": "markdown",
   "metadata": {},
   "source": [
    "Lets now include this cobra model object in our layout. \n",
    "\n",
    "Now, we are passing models to the layout as a list of `COBRA` models loaded into the current Python environment, which can also be done in addition to passing them as filenames. "
   ]
  },
  {
   "cell_type": "code",
   "execution_count": 7,
   "metadata": {},
   "outputs": [
    {
     "data": {
      "text/plain": [
       "[<Model modified_iJO1366 at 0x7f3a2b1c59b0>]"
      ]
     },
     "execution_count": 7,
     "metadata": {},
     "output_type": "execute_result"
    }
   ],
   "source": [
    "my_layout.models = [md]\n",
    "my_layout.models"
   ]
  },
  {
   "cell_type": "markdown",
   "metadata": {},
   "source": [
    "As you see, now the layout has a list of models containing cobra models (only one model in this case). \n",
    "\n",
    "Note that the list of models in the layout can be either a list of model files (either cobra xml or comets models) or a list of cobra models loaded into the environment, but never a mix of both.  \n",
    "\n",
    "In order to make effective any changes in the layout models, we have to run `update_models`:"
   ]
  },
  {
   "cell_type": "code",
   "execution_count": 8,
   "metadata": {},
   "outputs": [],
   "source": [
    "my_layout.update_models()"
   ]
  },
  {
   "cell_type": "markdown",
   "metadata": {},
   "source": [
    "Now, lets run the new model and compare it to the previous simulation."
   ]
  },
  {
   "cell_type": "code",
   "execution_count": 9,
   "metadata": {},
   "outputs": [
    {
     "name": "stdout",
     "output_type": "stream",
     "text": [
      "\n",
      "Running COMETS simulation ...\n",
      "Done!\n"
     ]
    },
    {
     "data": {
      "text/plain": [
       "[<matplotlib.lines.Line2D at 0x7f3a357adb38>]"
      ]
     },
     "execution_count": 9,
     "metadata": {},
     "output_type": "execute_result"
    },
    {
     "data": {
      "image/png": "[encoded data removed]",
      "text/plain": [
       "<Figure size 432x288 with 1 Axes>"
      ]
     },
     "metadata": {
      "needs_background": "light"
     },
     "output_type": "display_data"
    }
   ],
   "source": [
    "my_comets = c.comets(my_layout, my_params)\n",
    "my_comets.run()\n",
    "biomass2 = my_comets.total_biomass\n",
    "plt.plot('cycle', 'iJO1366', data=biomass1)\n",
    "plt.plot('cycle', 'modified_iJO1366', data=biomass2)"
   ]
  },
  {
   "cell_type": "markdown",
   "metadata": {},
   "source": [
    "Makes sense - we made the model worse in glucose by reducing $V_{max}$ and increasing $K_M$.\n",
    "\n",
    "## Loading COMETS model files\n",
    "The `layout` class is also capable of loading model files in COMETS model format (`.cmd`, the format passed to the COMETS Java engine). This will be deprecated in the future to simplify things for the user, who will only have to deal with cobra type SBML models.\n",
    "\n",
    "For example, let's include a `COMETS` model in our previous layout, and run it. "
   ]
  },
  {
   "cell_type": "code",
   "execution_count": 10,
   "metadata": {},
   "outputs": [
    {
     "data": {
      "text/plain": [
       "['iJO1366']"
      ]
     },
     "execution_count": 10,
     "metadata": {},
     "output_type": "execute_result"
    }
   ],
   "source": [
    "my_layout.models = ['test_models/iJO1366.cmd']\n",
    "my_layout.update_models()\n",
    "my_layout.models"
   ]
  },
  {
   "cell_type": "code",
   "execution_count": 11,
   "metadata": {},
   "outputs": [
    {
     "name": "stdout",
     "output_type": "stream",
     "text": [
      "\n",
      "Running COMETS simulation ...\n",
      "Done!\n"
     ]
    }
   ],
   "source": [
    "my_comets = c.comets(my_layout, my_params)\n",
    "my_comets.run()"
   ]
  },
  {
   "cell_type": "code",
   "execution_count": 12,
   "metadata": {},
   "outputs": [
    {
     "name": "stdout",
     "output_type": "stream",
     "text": [
      "-script\n",
      "running script file: /home/djordje/Dropbox/projects/COMETS-Python-Toolbox/.current_script\n",
      "Loading layout file '/home/djordje/Dropbox/projects/COMETS-Python-Toolbox/.current_layout'...\n",
      "Found 1 model files!\n",
      "Loading 'iJO1366.cmd' ...\n",
      "Loading 'iJO1366.cmd' ...\n",
      "Academic license - for non-commercial use only\n",
      "Academic license - for non-commercial use only\n",
      "Ancestor NO_ANCESTOR\n",
      "Done!\n",
      " Testing default parameters...\n",
      "Done!\n",
      "Optimizer status code = 5 (looks ok!)\n",
      "objective solution = [D@7dc7cbad\n",
      "Constructing world...\n",
      "Done!\n",
      "medialist\t12ppd__R_e\t12ppd__S_e\t14glucan_e\t15dap_e\t23camp_e\t23ccmp_e\t23cgmp_e\t23cump_e\t23dappa_e\t26dap__M_e\t2ddglcn_e\t34dhpac_e\t3amp_e\t3cmp_e\t3gmp_e\t3hcinnm_e\t3hpp_e\t3hpppn_e\t3ump_e\t4abut_e\t4hoxpacd_e\t5dglcn_e\t5mtr_e\tLalaDgluMdapDala_e\tLalaDgluMdap_e\tLalaDglu_e\tLalaLglu_e\tac_e\tacac_e\tacald_e\tacgal1p_e\tacgal_e\tacgam1p_e\tacgam_e\tacmana_e\tacmum_e\tacnam_e\tacolipa_e\tacser_e\tade_e\tadn_e\tadocbl_e\tag_e\tagm_e\takg_e\tala_B_e\tala__D_e\tala__L_e\talaala_e\tall__D_e\talltn_e\tamp_e\tanhgm_e\tarab__L_e\tarbt_e\tarbtn_e\tarbtn_fe3_e\targ__L_e\tascb__L_e\tasn__L_e\taso3_e\tasp__L_e\tbtn_e\tbut_e\tbutso3_e\tca2_e\tcbi_e\tcbl1_e\tcd2_e\tcgly_e\tchol_e\tchtbs_e\tcit_e\tcl_e\tcm_e\tcmp_e\tco2_e\tcobalt2_e\tcolipa_e\tcolipap_e\tcpgn_e\tcpgn_un_e\tcrn__D_e\tcrn_e\tcsn_e\tcu2_e\tcu_e\tcyan_e\tcynt_e\tcys__D_e\tcys__L_e\tcytd_e\tdad_2_e\tdamp_e\tdca_e\tdcmp_e\tdcyt_e\tddca_e\tdgmp_e\tdgsn_e\tdha_e\tdimp_e\tdin_e\tdms_e\tdmso_e\tdopa_e\tdoxrbcn_e\tdtmp_e\tdump_e\tduri_e\teca4colipa_e\tenlipa_e\tenter_e\tetha_e\tethso3_e\tetoh_e\tf6p_e\tfald_e\tfe2_e\tfe3_e\tfe3dcit_e\tfe3dhbzs_e\tfe3hox_e\tfe3hox_un_e\tfecrm_e\tfecrm_un_e\tfeenter_e\tfeoxam_e\tfeoxam_un_e\tfor_e\tfru_e\tfrulys_e\tfruur_e\tfuc__L_e\tfum_e\tfusa_e\tg1p_e\tg3pc_e\tg3pe_e\tg3pg_e\tg3pi_e\tg3ps_e\tg6p_e\tgal1p_e\tgal_bD_e\tgal_e\tgalct__D_e\tgalctn__D_e\tgalctn__L_e\tgalt_e\tgalur_e\tgam6p_e\tgam_e\tgbbtn_e\tgdp_e\tglc__D_e\tglcn_e\tglcr_e\tglcur1p_e\tglcur_e\tgln__L_e\tglu__L_e\tgly_e\tglyald_e\tglyb_e\tglyc2p_e\tglyc3p_e\tglyc__R_e\tglyc_e\tglyclt_e\tgmp_e\tgsn_e\tgthox_e\tgthrd_e\tgtp_e\tgua_e\th2_e\th2o2_e\th2o_e\th2s_e\th_e\thacolipa_e\thalipa_e\thdca_e\thdcea_e\thg2_e\this__L_e\thom__L_e\thxa_e\thxan_e\tidon__L_e\tile__L_e\timp_e\tindole_e\tinost_e\tins_e\tisetac_e\tk_e\tkdo2lipid4_e\tlac__D_e\tlac__L_e\tlcts_e\tleu__L_e\tlipa_cold_e\tlipa_e\tlipoate_e\tlys__L_e\tlyx__L_e\tmal__D_e\tmal__L_e\tmalt_e\tmalthx_e\tmaltpt_e\tmalttr_e\tmaltttr_e\tman6p_e\tman_e\tmanglyc_e\tmelib_e\tmeoh_e\tmet__D_e\tmet__L_e\tmetsox_R__L_e\tmetsox_S__L_e\tmg2_e\tmincyc_e\tminohp_e\tmmet_e\tmn2_e\tmnl_e\tmobd_e\tmso3_e\tn2o_e\tna1_e\tnac_e\tnh4_e\tni2_e\tnmn_e\tno2_e\tno3_e\tno_e\tnovbcn_e\to16a4colipa_e\to2_e\to2s_e\tocdca_e\tocdcea_e\tocta_e\torn_e\torot_e\tpacald_e\tpeamn_e\tphe__L_e\tpheme_e\tpi_e\tpnto__R_e\tppa_e\tppal_e\tpppn_e\tppt_e\tpro__L_e\tprogly_e\tpsclys_e\tpser__L_e\tptrc_e\tpydam_e\tpydx_e\tpydxn_e\tpyr_e\tquin_e\tr5p_e\trfamp_e\trib__D_e\trmn_e\tsbt__D_e\tsel_e\tser__D_e\tser__L_e\tskm_e\tslnt_e\tso2_e\tso3_e\tso4_e\tspmd_e\tsucc_e\tsucr_e\tsulfac_e\ttartr__D_e\ttartr__L_e\ttaur_e\ttcynt_e\tthm_e\tthr__L_e\tthrp_e\tthym_e\tthymd_e\ttma_e\ttmao_e\ttre_e\ttrp__L_e\ttsul_e\tttdca_e\tttdcea_e\tttrcyc_e\ttungs_e\ttym_e\ttyr__L_e\ttyrp_e\tuacgam_e\tudpacgal_e\tudpg_e\tudpgal_e\tudpglcur_e\tump_e\tura_e\turea_e\turi_e\tval__L_e\txan_e\txmp_e\txtsn_e\txyl__D_e\txylu__L_e\tzn2_e\n",
      "Cycle 1\n",
      "Total biomass:\n",
      "Model iJO1366.cmd: 1.044799841460178E-7\n",
      "Cycle 2\n",
      "Total biomass:\n",
      "Model iJO1366.cmd: 1.0916066014968419E-7\n",
      "Cycle 3\n",
      "Total biomass:\n",
      "Model iJO1366.cmd: 1.1405101745186521E-7\n",
      "Cycle 4\n",
      "Total biomass:\n",
      "Model iJO1366.cmd: 1.1916044804629678E-7\n",
      "Cycle 5\n",
      "Total biomass:\n",
      "Model iJO1366.cmd: 1.244987644952225E-7\n",
      "Cycle 6\n",
      "Total biomass:\n",
      "Model iJO1366.cmd: 1.3007621875006994E-7\n",
      "Cycle 7\n",
      "Total biomass:\n",
      "Model iJO1366.cmd: 1.3590352181299808E-7\n",
      "Cycle 8\n",
      "Total biomass:\n",
      "Model iJO1366.cmd: 1.4199186427671735E-7\n",
      "Cycle 9\n",
      "Total biomass:\n",
      "Model iJO1366.cmd: 1.4835293778163273E-7\n",
      "Cycle 10\n",
      "Total biomass:\n",
      "Model iJO1366.cmd: 1.549989574310235E-7\n",
      "Cycle 11\n",
      "Total biomass:\n",
      "Model iJO1366.cmd: 1.6194268520689167E-7\n",
      "Cycle 12\n",
      "Total biomass:\n",
      "Model iJO1366.cmd: 1.6919745443073791E-7\n",
      "Cycle 13\n",
      "Total biomass:\n",
      "Model iJO1366.cmd: 1.7677719531567898E-7\n",
      "Cycle 14\n",
      "Total biomass:\n",
      "Model iJO1366.cmd: 1.846964616581934E-7\n",
      "Cycle 15\n",
      "Total biomass:\n",
      "Model iJO1366.cmd: 1.9297045871991276E-7\n",
      "Cycle 16\n",
      "Total biomass:\n",
      "Model iJO1366.cmd: 2.016150723520379E-7\n",
      "Cycle 17\n",
      "Total biomass:\n",
      "Model iJO1366.cmd: 2.1064689941720912E-7\n",
      "Cycle 18\n",
      "Total biomass:\n",
      "Model iJO1366.cmd: 2.200832795659874E-7\n",
      "Cycle 19\n",
      "Total biomass:\n",
      "Model iJO1366.cmd: 2.2994232842758144E-7\n",
      "Cycle 20\n",
      "Total biomass:\n",
      "Model iJO1366.cmd: 2.4024297227672346E-7\n",
      "Cycle 21\n",
      "Total biomass:\n",
      "Model iJO1366.cmd: 2.5100498424173864E-7\n",
      "Cycle 22\n",
      "Total biomass:\n",
      "Model iJO1366.cmd: 2.622490221206819E-7\n",
      "Cycle 23\n",
      "Total biomass:\n",
      "Model iJO1366.cmd: 2.7399666787588985E-7\n",
      "Cycle 24\n",
      "Total biomass:\n",
      "Model iJO1366.cmd: 2.862704688800973E-7\n",
      "Cycle 25\n",
      "Total biomass:\n",
      "Model iJO1366.cmd: 2.9909398098916783E-7\n",
      "Cycle 26\n",
      "Total biomass:\n",
      "Model iJO1366.cmd: 3.1249181352116733E-7\n",
      "Cycle 27\n",
      "Total biomass:\n",
      "Model iJO1366.cmd: 3.2648967622254546E-7\n",
      "Cycle 28\n",
      "Total biomass:\n",
      "Model iJO1366.cmd: 3.4111442830687404E-7\n",
      "Cycle 29\n",
      "Total biomass:\n",
      "Model iJO1366.cmd: 3.5639412965367616E-7\n",
      "Cycle 30\n",
      "Total biomass:\n",
      "Model iJO1366.cmd: 3.7235809425787834E-7\n",
      "Cycle 31\n",
      "Total biomass:\n",
      "Model iJO1366.cmd: 3.890369460238923E-7\n",
      "Cycle 32\n",
      "Total biomass:\n",
      "Model iJO1366.cmd: 4.0646267700042306E-7\n",
      "Cycle 33\n",
      "Total biomass:\n",
      "Model iJO1366.cmd: 4.2466870815561925E-7\n",
      "Cycle 34\n",
      "Total biomass:\n",
      "Model iJO1366.cmd: 4.4368995279322106E-7\n",
      "Cycle 35\n",
      "Total biomass:\n",
      "Model iJO1366.cmd: 4.63562882713512E-7\n",
      "Cycle 36\n",
      "Total biomass:\n",
      "Model iJO1366.cmd: 4.843255972234494E-7\n",
      "Cycle 37\n",
      "Total biomass:\n",
      "Model iJO1366.cmd: 5.060178951011299E-7\n",
      "Cycle 38\n",
      "Total biomass:\n",
      "Model iJO1366.cmd: 5.286813496193035E-7\n",
      "Cycle 39\n",
      "Total biomass:\n",
      "Model iJO1366.cmd: 5.523593867302339E-7\n",
      "Cycle 40\n",
      "Total biomass:\n",
      "Model iJO1366.cmd: 5.77097366510895E-7\n",
      "Cycle 41\n",
      "Total biomass:\n",
      "Model iJO1366.cmd: 6.029426679601115E-7\n",
      "Cycle 42\n",
      "Total biomass:\n",
      "Model iJO1366.cmd: 6.29944777229234E-7\n",
      "Cycle 43\n",
      "Total biomass:\n",
      "Model iJO1366.cmd: 6.581553793523371E-7\n",
      "Cycle 44\n",
      "Total biomass:\n",
      "Model iJO1366.cmd: 6.876284535193942E-7\n",
      "Cycle 45\n",
      "Total biomass:\n",
      "Model iJO1366.cmd: 7.184203719035519E-7\n",
      "Cycle 46\n",
      "Total biomass:\n",
      "Model iJO1366.cmd: 7.505900020074587E-7\n",
      "Cycle 47\n",
      "Total biomass:\n",
      "Model iJO1366.cmd: 7.841988124277335E-7\n",
      "Cycle 48\n",
      "Total biomass:\n",
      "Model iJO1366.cmd: 8.193109818422752E-7\n",
      "Cycle 49\n",
      "Total biomass:\n",
      "Model iJO1366.cmd: 8.55993510889101E-7\n",
      "Cycle 50\n",
      "Total biomass:\n",
      "Model iJO1366.cmd: 8.943163364070973E-7\n",
      "Cycle 51\n",
      "Total biomass:\n",
      "Model iJO1366.cmd: 9.343524472165361E-7\n",
      "Cycle 52\n",
      "Total biomass:\n",
      "Model iJO1366.cmd: 9.761780001784265E-7\n",
      "Cycle 53\n",
      "Total biomass:\n",
      "Model iJO1366.cmd: 1.0198724346014064E-6\n",
      "Cycle 54\n",
      "Total biomass:\n",
      "Model iJO1366.cmd: 1.0655185820178337E-6\n",
      "Cycle 55\n",
      "Total biomass:\n",
      "Model iJO1366.cmd: 1.1132027666734088E-6\n",
      "Cycle 56\n",
      "Total biomass:\n",
      "Model iJO1366.cmd: 1.1630148893070143E-6\n",
      "Cycle 57\n",
      "Total biomass:\n",
      "Model iJO1366.cmd: 1.215048482073676E-6\n",
      "Cycle 58\n",
      "Total biomass:\n",
      "Model iJO1366.cmd: 1.2694007140740952E-6\n",
      "Cycle 59\n",
      "Total biomass:\n",
      "Model iJO1366.cmd: 1.3261723113471242E-6\n",
      "Cycle 60\n",
      "Total biomass:\n",
      "Model iJO1366.cmd: 1.3854673245005481E-6\n",
      "Cycle 61\n",
      "Total biomass:\n",
      "Model iJO1366.cmd: 1.4473926126967144E-6\n",
      "Cycle 62\n",
      "Total biomass:\n",
      "Model iJO1366.cmd: 1.512056765745477E-6\n",
      "Cycle 63\n",
      "Total biomass:\n",
      "Model iJO1366.cmd: 1.5795678145057117E-6\n",
      "Cycle 64\n",
      "Total biomass:\n",
      "Model iJO1366.cmd: 1.6500280041203124E-6\n",
      "Cycle 65\n",
      "Total biomass:\n",
      "Model iJO1366.cmd: 1.7235201478382702E-6\n",
      "Cycle 66\n",
      "Total biomass:\n",
      "Model iJO1366.cmd: 1.8000626608479393E-6\n",
      "Cycle 67\n",
      "Total biomass:\n",
      "Model iJO1366.cmd: 1.879376066915942E-6\n",
      "Cycle 68\n",
      "Total biomass:\n",
      "Model iJO1366.cmd: 1.8827099553516913E-6\n",
      "Cycle 69\n",
      "MAXIMIZE_OBJECTIVE_FLUX: Model is not feasible\n",
      "Total biomass:\n",
      "Model iJO1366.cmd: 1.8827099553516913E-6\n",
      "Cycle 70\n",
      "MAXIMIZE_OBJECTIVE_FLUX: Model is not feasible\n",
      "Total biomass:\n",
      "Model iJO1366.cmd: 1.8827099553516913E-6\n",
      "Cycle 71\n",
      "MAXIMIZE_OBJECTIVE_FLUX: Model is not feasible\n",
      "Total biomass:\n",
      "Model iJO1366.cmd: 1.8827099553516913E-6\n",
      "Cycle 72\n",
      "MAXIMIZE_OBJECTIVE_FLUX: Model is not feasible\n",
      "Total biomass:\n",
      "Model iJO1366.cmd: 1.8827099553516913E-6\n",
      "Cycle 73\n",
      "MAXIMIZE_OBJECTIVE_FLUX: Model is not feasible\n",
      "Total biomass:\n",
      "Model iJO1366.cmd: 1.8827099553516913E-6\n",
      "Cycle 74\n",
      "MAXIMIZE_OBJECTIVE_FLUX: Model is not feasible\n",
      "Total biomass:\n",
      "Model iJO1366.cmd: 1.8827099553516913E-6\n",
      "Cycle 75\n",
      "MAXIMIZE_OBJECTIVE_FLUX: Model is not feasible\n",
      "Total biomass:\n",
      "Model iJO1366.cmd: 1.8827099553516913E-6\n",
      "Cycle 76\n",
      "MAXIMIZE_OBJECTIVE_FLUX: Model is not feasible\n",
      "Total biomass:\n",
      "Model iJO1366.cmd: 1.8827099553516913E-6\n",
      "Cycle 77\n",
      "MAXIMIZE_OBJECTIVE_FLUX: Model is not feasible\n",
      "Total biomass:\n",
      "Model iJO1366.cmd: 1.8827099553516913E-6\n",
      "Cycle 78\n",
      "MAXIMIZE_OBJECTIVE_FLUX: Model is not feasible\n",
      "Total biomass:\n",
      "Model iJO1366.cmd: 1.8827099553516913E-6\n",
      "Cycle 79\n",
      "MAXIMIZE_OBJECTIVE_FLUX: Model is not feasible\n",
      "Total biomass:\n",
      "Model iJO1366.cmd: 1.8827099553516913E-6\n",
      "Cycle 80\n",
      "MAXIMIZE_OBJECTIVE_FLUX: Model is not feasible\n",
      "Total biomass:\n",
      "Model iJO1366.cmd: 1.8827099553516913E-6\n",
      "Cycle 81\n",
      "MAXIMIZE_OBJECTIVE_FLUX: Model is not feasible\n",
      "Total biomass:\n",
      "Model iJO1366.cmd: 1.8827099553516913E-6\n",
      "Cycle 82\n",
      "MAXIMIZE_OBJECTIVE_FLUX: Model is not feasible\n",
      "Total biomass:\n",
      "Model iJO1366.cmd: 1.8827099553516913E-6\n",
      "Cycle 83\n",
      "MAXIMIZE_OBJECTIVE_FLUX: Model is not feasible\n",
      "Total biomass:\n",
      "Model iJO1366.cmd: 1.8827099553516913E-6\n",
      "Cycle 84\n",
      "MAXIMIZE_OBJECTIVE_FLUX: Model is not feasible\n",
      "Total biomass:\n",
      "Model iJO1366.cmd: 1.8827099553516913E-6\n",
      "Cycle 85\n",
      "MAXIMIZE_OBJECTIVE_FLUX: Model is not feasible\n",
      "Total biomass:\n",
      "Model iJO1366.cmd: 1.8827099553516913E-6\n",
      "Cycle 86\n",
      "MAXIMIZE_OBJECTIVE_FLUX: Model is not feasible\n",
      "Total biomass:\n",
      "Model iJO1366.cmd: 1.8827099553516913E-6\n",
      "Cycle 87\n",
      "MAXIMIZE_OBJECTIVE_FLUX: Model is not feasible\n",
      "Total biomass:\n",
      "Model iJO1366.cmd: 1.8827099553516913E-6\n",
      "Cycle 88\n",
      "MAXIMIZE_OBJECTIVE_FLUX: Model is not feasible\n",
      "Total biomass:\n",
      "Model iJO1366.cmd: 1.8827099553516913E-6\n",
      "Cycle 89\n",
      "MAXIMIZE_OBJECTIVE_FLUX: Model is not feasible\n",
      "Total biomass:\n",
      "Model iJO1366.cmd: 1.8827099553516913E-6\n",
      "Cycle 90\n",
      "MAXIMIZE_OBJECTIVE_FLUX: Model is not feasible\n",
      "Total biomass:\n",
      "Model iJO1366.cmd: 1.8827099553516913E-6\n",
      "Cycle 91\n",
      "MAXIMIZE_OBJECTIVE_FLUX: Model is not feasible\n",
      "Total biomass:\n",
      "Model iJO1366.cmd: 1.8827099553516913E-6\n",
      "Cycle 92\n",
      "MAXIMIZE_OBJECTIVE_FLUX: Model is not feasible\n",
      "Total biomass:\n",
      "Model iJO1366.cmd: 1.8827099553516913E-6\n",
      "Cycle 93\n",
      "MAXIMIZE_OBJECTIVE_FLUX: Model is not feasible\n",
      "Total biomass:\n",
      "Model iJO1366.cmd: 1.8827099553516913E-6\n",
      "Cycle 94\n",
      "MAXIMIZE_OBJECTIVE_FLUX: Model is not feasible\n",
      "Total biomass:\n",
      "Model iJO1366.cmd: 1.8827099553516913E-6\n",
      "Cycle 95\n",
      "MAXIMIZE_OBJECTIVE_FLUX: Model is not feasible\n",
      "Total biomass:\n",
      "Model iJO1366.cmd: 1.8827099553516913E-6\n",
      "Cycle 96\n",
      "MAXIMIZE_OBJECTIVE_FLUX: Model is not feasible\n",
      "Total biomass:\n",
      "Model iJO1366.cmd: 1.8827099553516913E-6\n",
      "Cycle 97\n",
      "MAXIMIZE_OBJECTIVE_FLUX: Model is not feasible\n",
      "Total biomass:\n",
      "Model iJO1366.cmd: 1.8827099553516913E-6\n",
      "Cycle 98\n",
      "MAXIMIZE_OBJECTIVE_FLUX: Model is not feasible\n",
      "Total biomass:\n",
      "Model iJO1366.cmd: 1.8827099553516913E-6\n",
      "Cycle 99\n",
      "MAXIMIZE_OBJECTIVE_FLUX: Model is not feasible\n",
      "Total biomass:\n",
      "Model iJO1366.cmd: 1.8827099553516913E-6\n",
      "Cycle 100\n",
      "MAXIMIZE_OBJECTIVE_FLUX: Model is not feasible\n",
      "Total biomass:\n",
      "Model iJO1366.cmd: 1.8827099553516913E-6\n",
      "Cycle 101\n",
      "End of simulation\n",
      "Total time = 2.495s\n",
      "\n"
     ]
    }
   ],
   "source": [
    "print(my_comets.run_output)"
   ]
  },
  {
   "cell_type": "code",
   "execution_count": 13,
   "metadata": {},
   "outputs": [
    {
     "data": {
      "text/plain": [
       "[<matplotlib.lines.Line2D at 0x7f3a2beeed68>]"
      ]
     },
     "execution_count": 13,
     "metadata": {},
     "output_type": "execute_result"
    },
    {
     "data": {
      "image/png": "[encoded data removed]",
      "text/plain": [
       "<Figure size 432x288 with 1 Axes>"
      ]
     },
     "metadata": {
      "needs_background": "light"
     },
     "output_type": "display_data"
    }
   ],
   "source": [
    "plt.plot('cycle', 'iJO1366', data=my_comets.total_biomass)"
   ]
  }
 ],
 "metadata": {
  "kernelspec": {
   "display_name": "Python 3",
   "language": "python",
   "name": "python3"
  },
  "language_info": {
   "codemirror_mode": {
    "name": "ipython",
    "version": 3
   },
   "file_extension": ".py",
   "mimetype": "text/x-python",
   "name": "python",
   "nbconvert_exporter": "python",
   "pygments_lexer": "ipython3",
   "version": "3.5.2"
  }
 },
 "nbformat": 4,
 "nbformat_minor": 2
}
