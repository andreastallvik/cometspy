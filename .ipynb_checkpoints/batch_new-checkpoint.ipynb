{
 "cells": [
  {
   "cell_type": "code",
   "execution_count": 1,
   "metadata": {},
   "outputs": [
    {
     "name": "stdout",
     "output_type": "stream",
     "text": [
      "building empty layout model\n",
      "models will need to be added with layout.add_model()\n",
      "       diff_c g_refresh g_static g_static_val init_amount metabolite\n",
      "65   0.000005         0        0            0        1000      ca2_e\n",
      "73   0.000005         0        0            0        1000       cl_e\n",
      "77   0.000005         0        0            0        1000  cobalt2_e\n",
      "85   0.000005         0        0            0        1000      cu2_e\n",
      "118  0.000005         0        0            0        1000      fe2_e\n",
      "119  0.000005         0        0            0        1000      fe3_e\n",
      "155  0.000005         0        0            0          10   glc__D_e\n",
      "178  0.000005         0        0            0        1000      h2o_e\n",
      "180  0.000005         0        0            0        1000        h_e\n",
      "197  0.000005         0        0            0        1000        k_e\n",
      "224  0.000005         0        0            0        1000      mg2_e\n",
      "228  0.000005         0        0            0        1000      mn2_e\n",
      "230  0.000005         0        0            0        1000     mobd_e\n",
      "233  0.000005         0        0            0        1000      na1_e\n",
      "235  0.000005         0        0            0        1000      nh4_e\n",
      "236  0.000005         0        0            0        1000      ni2_e\n",
      "243  0.000005         0        0            0        1000       o2_e\n",
      "254  0.000005         0        0            0        1000       pi_e\n",
      "282  0.000005         0        0            0        1000      so4_e\n",
      "323  0.000005         0        0            0        1000      zn2_e\n",
      "\n",
      "Running COMETS simulation ...\n",
      "Done!\n"
     ]
    },
    {
     "ename": "AttributeError",
     "evalue": "'str' object has no attribute 'decode'",
     "output_type": "error",
     "traceback": [
      "\u001b[0;31m---------------------------------------------------------------------------\u001b[0m",
      "\u001b[0;31mAttributeError\u001b[0m                            Traceback (most recent call last)",
      "\u001b[0;32m<ipython-input-1-687a47c91d27>\u001b[0m in \u001b[0;36m<module>\u001b[0;34m\u001b[0m\n\u001b[1;32m     26\u001b[0m \u001b[0mbatch_test\u001b[0m \u001b[0;34m=\u001b[0m \u001b[0mc\u001b[0m\u001b[0;34m.\u001b[0m\u001b[0mcomets\u001b[0m\u001b[0;34m(\u001b[0m\u001b[0mlayout\u001b[0m\u001b[0;34m,\u001b[0m \u001b[0mb_params\u001b[0m\u001b[0;34m)\u001b[0m\u001b[0;34m\u001b[0m\u001b[0m\n\u001b[1;32m     27\u001b[0m \u001b[0mbatch_test\u001b[0m\u001b[0;34m.\u001b[0m\u001b[0mrun\u001b[0m\u001b[0;34m(\u001b[0m\u001b[0;34m)\u001b[0m\u001b[0;34m\u001b[0m\u001b[0m\n\u001b[0;32m---> 28\u001b[0;31m \u001b[0mbatch_test\u001b[0m\u001b[0;34m.\u001b[0m\u001b[0mrun_output\u001b[0m\u001b[0;34m.\u001b[0m\u001b[0mdecode\u001b[0m\u001b[0;34m(\u001b[0m\u001b[0;34m)\u001b[0m\u001b[0;34m\u001b[0m\u001b[0m\n\u001b[0m\u001b[1;32m     29\u001b[0m \u001b[0mmyplot\u001b[0m \u001b[0;34m=\u001b[0m \u001b[0mbatch_test\u001b[0m\u001b[0;34m.\u001b[0m\u001b[0mtotal_biomass\u001b[0m\u001b[0;34m.\u001b[0m\u001b[0mplot\u001b[0m\u001b[0;34m(\u001b[0m\u001b[0mx\u001b[0m \u001b[0;34m=\u001b[0m \u001b[0;34m'cycle'\u001b[0m\u001b[0;34m)\u001b[0m\u001b[0;34m\u001b[0m\u001b[0m\n",
      "\u001b[0;31mAttributeError\u001b[0m: 'str' object has no attribute 'decode'"
     ]
    }
   ],
   "source": [
    "#!/usr/bin/env python3\n",
    "# -*- coding: utf-8 -*-\n",
    "\"\"\"\n",
    "Created on Tue Mar 26 10:37:31 2019\n",
    "\n",
    "@author: chaco001\n",
    "\"\"\"\n",
    "\n",
    "import comets as c\n",
    "# import os\n",
    "# import pandas as pd\n",
    "# import cobra as cb\n",
    "# import cobra.test\n",
    "# import copy\n",
    "\n",
    "b_params = c.params()\n",
    "b_params.all_params['maxCycles'] = 400\n",
    "\n",
    "p = c.model('test_models/iJO1366.xml')\n",
    "p.initial_pop = [0, 0, 1e-8]\n",
    "layout = c.layout()\n",
    "layout.add_model(p)\n",
    "layout.add_typical_trace_metabolites()\n",
    "layout.set_specific_metabolite('glc__D_e', 10.)\n",
    "layout.display_current_media()"
   ]
  },
  {
   "cell_type": "code",
   "execution_count": 3,
   "metadata": {},
   "outputs": [
    {
     "data": {
      "text/plain": [
       "<matplotlib.axes._subplots.AxesSubplot at 0x7fc152af5438>"
      ]
     },
     "execution_count": 3,
     "metadata": {},
     "output_type": "execute_result"
    },
    {
     "data": {
      "image/png": "[encoded data removed]",
      "text/plain": [
       "<Figure size 432x288 with 1 Axes>"
      ]
     },
     "metadata": {
      "needs_background": "light"
     },
     "output_type": "display_data"
    }
   ],
   "source": [
    "batch_test = c.comets(layout, b_params)\n",
    "batch_test.run()\n",
    "batch_test.total_biomass.plot(x = 'cycle')"
   ]
  },
  {
   "cell_type": "code",
   "execution_count": 4,
   "metadata": {},
   "outputs": [
    {
     "name": "stdout",
     "output_type": "stream",
     "text": [
      "building empty layout model\n",
      "models will need to be added with layout.add_model()\n",
      "\n",
      "Running COMETS simulation ...\n",
      "Done!\n"
     ]
    }
   ],
   "source": [
    "o = c.model('test_models/iJO1366.cmd')\n",
    "o.initial_pop = [0,0,1e-8]\n",
    "layout = c.layout()\n",
    "layout.add_model(o)\n",
    "layout.add_typical_trace_metabolites()\n",
    "layout.set_specific_metabolite('glc__D_e', 10.)\n",
    "layout.media\n",
    "layout.initial_pop\n",
    "batch_test = c.comets(layout, b_params)\n",
    "batch_test.run()"
   ]
  },
  {
   "cell_type": "code",
   "execution_count": 5,
   "metadata": {},
   "outputs": [
    {
     "data": {
      "text/plain": [
       "<matplotlib.axes._subplots.AxesSubplot at 0x7fc150a59470>"
      ]
     },
     "execution_count": 5,
     "metadata": {},
     "output_type": "execute_result"
    },
    {
     "data": {
      "image/png": "[encoded data removed]",
      "text/plain": [
       "<Figure size 432x288 with 1 Axes>"
      ]
     },
     "metadata": {
      "needs_background": "light"
     },
     "output_type": "display_data"
    }
   ],
   "source": [
    "batch_test.run_output\n",
    "batch_test.total_biomass.plot(x = 'cycle')"
   ]
  }
 ],
 "metadata": {
  "kernelspec": {
   "display_name": "Python 3",
   "language": "python",
   "name": "python3"
  }
 },
 "nbformat": 4,
 "nbformat_minor": 2
}
