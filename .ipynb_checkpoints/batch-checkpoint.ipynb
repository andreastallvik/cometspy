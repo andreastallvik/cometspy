{
 "cells": [
  {
   "cell_type": "markdown",
   "metadata": {},
   "source": [
    "# Batch culture in COMETS\n",
    "\n",
    "One of the most common experimental designs in microbial ecology and evolution consists on periodically transfering a small amount of a grown bacterial culture to fresh media, which is known as \"batch culture\".\n",
    "\n",
    "In `COMETS`, this is easily done using three parameters\n",
    " * `batchDilution` is either True or False; specifies whether periodic dilutions are performed. \n",
    " * `dilTime` is the periodicity at which dilutions are performed, in hr. \n",
    " * `dilFactor` is the dilution factor applied. If the value passed here is larger than one, that will be the dilution factor; if it is smaller than one, it will be the applied dilution properly. For instance, a 1:100 dilution can be specified as either 100 or 0.01. \n",
    "\n",
    "Let's first do a batch culture with no oxygen in the environment. "
   ]
  },
  {
   "cell_type": "code",
   "execution_count": 3,
   "metadata": {},
   "outputs": [
    {
     "data": {
      "text/html": [
       "<div>\n",
       "<style scoped>\n",
       "    .dataframe tbody tr th:only-of-type {\n",
       "        vertical-align: middle;\n",
       "    }\n",
       "\n",
       "    .dataframe tbody tr th {\n",
       "        vertical-align: top;\n",
       "    }\n",
       "\n",
       "    .dataframe thead th {\n",
       "        text-align: right;\n",
       "    }\n",
       "</style>\n",
       "<table border=\"1\" class=\"dataframe\">\n",
       "  <thead>\n",
       "    <tr style=\"text-align: right;\">\n",
       "      <th></th>\n",
       "      <th>metabolite</th>\n",
       "      <th>init_amount</th>\n",
       "      <th>diff_c</th>\n",
       "      <th>g_static</th>\n",
       "      <th>g_static_val</th>\n",
       "      <th>g_refresh</th>\n",
       "    </tr>\n",
       "  </thead>\n",
       "  <tbody>\n",
       "    <tr>\n",
       "      <th>0</th>\n",
       "      <td>o2_e</td>\n",
       "      <td>0.0</td>\n",
       "      <td>NaN</td>\n",
       "      <td>0</td>\n",
       "      <td>0.0</td>\n",
       "      <td>NaN</td>\n",
       "    </tr>\n",
       "    <tr>\n",
       "      <th>1</th>\n",
       "      <td>glc__D_e</td>\n",
       "      <td>20.0</td>\n",
       "      <td>NaN</td>\n",
       "      <td>0</td>\n",
       "      <td>0.0</td>\n",
       "      <td>NaN</td>\n",
       "    </tr>\n",
       "    <tr>\n",
       "      <th>2</th>\n",
       "      <td>ca2_e</td>\n",
       "      <td>1000.0</td>\n",
       "      <td>NaN</td>\n",
       "      <td>1</td>\n",
       "      <td>1000.0</td>\n",
       "      <td>NaN</td>\n",
       "    </tr>\n",
       "    <tr>\n",
       "      <th>3</th>\n",
       "      <td>cbl1_e</td>\n",
       "      <td>1000.0</td>\n",
       "      <td>NaN</td>\n",
       "      <td>1</td>\n",
       "      <td>1000.0</td>\n",
       "      <td>NaN</td>\n",
       "    </tr>\n",
       "    <tr>\n",
       "      <th>4</th>\n",
       "      <td>cl_e</td>\n",
       "      <td>1000.0</td>\n",
       "      <td>NaN</td>\n",
       "      <td>1</td>\n",
       "      <td>1000.0</td>\n",
       "      <td>NaN</td>\n",
       "    </tr>\n",
       "    <tr>\n",
       "      <th>...</th>\n",
       "      <td>...</td>\n",
       "      <td>...</td>\n",
       "      <td>...</td>\n",
       "      <td>...</td>\n",
       "      <td>...</td>\n",
       "      <td>...</td>\n",
       "    </tr>\n",
       "    <tr>\n",
       "      <th>20</th>\n",
       "      <td>sel_e</td>\n",
       "      <td>1000.0</td>\n",
       "      <td>NaN</td>\n",
       "      <td>1</td>\n",
       "      <td>1000.0</td>\n",
       "      <td>NaN</td>\n",
       "    </tr>\n",
       "    <tr>\n",
       "      <th>21</th>\n",
       "      <td>slnt_e</td>\n",
       "      <td>1000.0</td>\n",
       "      <td>NaN</td>\n",
       "      <td>1</td>\n",
       "      <td>1000.0</td>\n",
       "      <td>NaN</td>\n",
       "    </tr>\n",
       "    <tr>\n",
       "      <th>22</th>\n",
       "      <td>so4_e</td>\n",
       "      <td>1000.0</td>\n",
       "      <td>NaN</td>\n",
       "      <td>1</td>\n",
       "      <td>1000.0</td>\n",
       "      <td>NaN</td>\n",
       "    </tr>\n",
       "    <tr>\n",
       "      <th>23</th>\n",
       "      <td>tungs_e</td>\n",
       "      <td>1000.0</td>\n",
       "      <td>NaN</td>\n",
       "      <td>1</td>\n",
       "      <td>1000.0</td>\n",
       "      <td>NaN</td>\n",
       "    </tr>\n",
       "    <tr>\n",
       "      <th>24</th>\n",
       "      <td>zn2_e</td>\n",
       "      <td>1000.0</td>\n",
       "      <td>NaN</td>\n",
       "      <td>1</td>\n",
       "      <td>1000.0</td>\n",
       "      <td>NaN</td>\n",
       "    </tr>\n",
       "  </tbody>\n",
       "</table>\n",
       "<p>25 rows × 6 columns</p>\n",
       "</div>"
      ],
      "text/plain": [
       "   metabolite  init_amount diff_c  g_static  g_static_val g_refresh\n",
       "0        o2_e          0.0    NaN         0           0.0       NaN\n",
       "1    glc__D_e         20.0    NaN         0           0.0       NaN\n",
       "2       ca2_e       1000.0    NaN         1        1000.0       NaN\n",
       "3      cbl1_e       1000.0    NaN         1        1000.0       NaN\n",
       "4        cl_e       1000.0    NaN         1        1000.0       NaN\n",
       "..        ...          ...    ...       ...           ...       ...\n",
       "20      sel_e       1000.0    NaN         1        1000.0       NaN\n",
       "21     slnt_e       1000.0    NaN         1        1000.0       NaN\n",
       "22      so4_e       1000.0    NaN         1        1000.0       NaN\n",
       "23    tungs_e       1000.0    NaN         1        1000.0       NaN\n",
       "24      zn2_e       1000.0    NaN         1        1000.0       NaN\n",
       "\n",
       "[25 rows x 6 columns]"
      ]
     },
     "execution_count": 3,
     "metadata": {},
     "output_type": "execute_result"
    }
   ],
   "source": [
    "import comets as c\n",
    "import os\n",
    "import pandas as pd\n",
    "import cobra as cb\n",
    "pd.options.display.max_rows = 10\n",
    "\n",
    "# Set relevant parameters\n",
    "b_params = c.params()\n",
    "b_params.all_params['batchDilution'] = True\n",
    "b_params.all_params['dilTime'] = 24\n",
    "b_params.all_params['dilFactor'] = 100\n",
    "b_params.all_params['timeStep'] = .2\n",
    "b_params.all_params['maxCycles'] = 400\n",
    "\n",
    "# Set layout\n",
    "b_layout = c.layout('test_batch/batch_layout')\n",
    "b_layout.media.loc[b_layout.media['metabolite'] == 'glc__D_e', 'init_amount'] = 20\n",
    "b_layout.media.loc[b_layout.media['metabolite'] == 'o2_e', 'init_amount'] = 0\n",
    "b_layout.media"
   ]
  },
  {
   "cell_type": "markdown",
   "metadata": {},
   "source": [
    "Now, run simulation and draw the biomass curve. "
   ]
  },
  {
   "cell_type": "code",
   "execution_count": 4,
   "metadata": {},
   "outputs": [
    {
     "name": "stdout",
     "output_type": "stream",
     "text": [
      "\n",
      "Running COMETS simulation ...\n",
      "Done!\n"
     ]
    }
   ],
   "source": [
    "# create comets object from the loaded parameters and layout \n",
    "batch_anaerob = c.comets(b_layout, b_params)\n",
    "\n",
    "# run comets simulation\n",
    "batch_anaerob.run()"
   ]
  },
  {
   "cell_type": "code",
   "execution_count": 8,
   "metadata": {},
   "outputs": [
    {
     "data": {
      "text/plain": [
       "<matplotlib.axes._subplots.AxesSubplot at 0x7f42abee1f60>"
      ]
     },
     "execution_count": 8,
     "metadata": {},
     "output_type": "execute_result"
    },
    {
     "data": {
      "image/png": "[encoded data removed]",
      "text/plain": [
       "<Figure size 432x288 with 1 Axes>"
      ]
     },
     "metadata": {
      "needs_background": "light"
     },
     "output_type": "display_data"
    }
   ],
   "source": [
    "batch_anaerob.total_biomass.plot(x = 'cycle', y = 'iJO1366')"
   ]
  },
  {
   "cell_type": "markdown",
   "metadata": {},
   "source": [
    "Here, we see that the population is unable to reach enough density in a single cycle to maintain a stable population, an is therefore going to extinction. \n",
    "\n",
    "Lets now add oxygen to the environment, and redo the simulation. "
   ]
  },
  {
   "cell_type": "code",
   "execution_count": 13,
   "metadata": {},
   "outputs": [],
   "source": [
    "b_layout.media.loc[b_layout.media['metabolite'] == 'o2_e', 'init_amount'] = 1000"
   ]
  },
  {
   "cell_type": "code",
   "execution_count": 14,
   "metadata": {},
   "outputs": [
    {
     "name": "stdout",
     "output_type": "stream",
     "text": [
      "\n",
      "Running COMETS simulation ...\n",
      "Done!\n"
     ]
    }
   ],
   "source": [
    "# create comets object from the loaded parameters and layout \n",
    "batch_aerob = c.comets(b_layout, b_params)\n",
    "\n",
    "# run comets simulation\n",
    "batch_aerob.run()"
   ]
  },
  {
   "cell_type": "code",
   "execution_count": 16,
   "metadata": {},
   "outputs": [
    {
     "data": {
      "text/plain": [
       "<matplotlib.axes._subplots.AxesSubplot at 0x7f42abece390>"
      ]
     },
     "execution_count": 16,
     "metadata": {},
     "output_type": "execute_result"
    },
    {
     "data": {
      "image/png": "[encoded data removed]",
      "text/plain": [
       "<Figure size 432x288 with 1 Axes>"
      ]
     },
     "metadata": {
      "needs_background": "light"
     },
     "output_type": "display_data"
    }
   ],
   "source": [
    "batch_aerob.total_biomass.plot(x = 'cycle', y = 'iJO1366')"
   ]
  },
  {
   "cell_type": "markdown",
   "metadata": {},
   "source": [
    "Now, with oxygen in the environment enabling respiration, the growth rate is much higher, and the population soon reaches stationnary phase, maintaining the population through the successive dilutions. "
   ]
  }
 ],
 "metadata": {
  "kernelspec": {
   "display_name": "Python 3",
   "language": "python",
   "name": "python3"
  },
  "language_info": {
   "codemirror_mode": {
    "name": "ipython",
    "version": 3
   },
   "file_extension": ".py",
   "mimetype": "text/x-python",
   "name": "python",
   "nbconvert_exporter": "python",
   "pygments_lexer": "ipython3",
   "version": "3.6.9"
  }
 },
 "nbformat": 4,
 "nbformat_minor": 2
}
